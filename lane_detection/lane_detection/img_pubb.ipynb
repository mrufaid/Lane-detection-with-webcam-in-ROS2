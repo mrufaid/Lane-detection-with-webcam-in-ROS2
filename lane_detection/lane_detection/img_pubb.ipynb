{
 "cells": [
  {
   "cell_type": "code",
   "execution_count": null,
   "metadata": {},
   "outputs": [],
   "source": [
    "#!/usr/bin/env python3\n",
    "import rclpy\n",
    "from rclpy.node import Node\n",
    "from sensor_msgs.msg import Image\n",
    "from cv_bridge import CvBridge\n",
    "import cv2"
   ]
  },
  {
   "cell_type": "code",
   "execution_count": 2,
   "metadata": {},
   "outputs": [
    {
     "name": "stdout",
     "output_type": "stream",
     "text": [
      "heljhjgjlo\n"
     ]
    }
   ],
   "source": [
    "print('heljhjgjlo')"
   ]
  },
  {
   "cell_type": "code",
   "execution_count": null,
   "metadata": {},
   "outputs": [],
   "source": [
    "class img_publishing(Node): \n",
    "    def __init__(self):\n",
    "        super().__init__(\"img_pub\")\n",
    "        self.publisher=self.create_publisher(Image,'images',10)\n",
    "        self.timer=self.create_timer(1,self.img_callback)\n",
    "        self.cv_bridge = CvBridge()\n",
    "        self.cap = cv2.VideoCapture(0)\n",
    "        self.get_logger().info('node started')\n",
    "\n",
    "    def img_callback(self):\n",
    "        ret, frame = self.cap.read()\n",
    "        if ret==True:\n",
    "            ros_image = self.cv_bridge.cv2_to_imgmsg(frame, \"bgr8\")\n",
    "            self.publisher.publish(ros_image)\n",
    "        else:\n",
    "            self.get_logger().info('frame not read')\n",
    "\n",
    "        \n",
    "            \n",
    "\n",
    "\n",
    "\n",
    " \n",
    " \n",
    "def main(args=None):\n",
    "    rclpy.init(args=args)\n",
    "    node = img_publishing() \n",
    "    rclpy.spin(node)\n",
    "    rclpy.shutdown()\n",
    " \n",
    " \n",
    "if __name__ == \"__main__\":\n",
    "    main()"
   ]
  },
  {
   "cell_type": "code",
   "execution_count": null,
   "metadata": {},
   "outputs": [],
   "source": [
    "'''#!/usr/bin/env python3\n",
    "import rclpy\n",
    "from rclpy.node import Node\n",
    "from example_interfaces.msg import String\n",
    " \n",
    " \n",
    "class radio_station(Node): # MODIFY NAME\n",
    "    def __init__(self):\n",
    "        super().__init__(\"radio_station\") \n",
    "        self.get_logger().info('the radio station has started')\n",
    "        self.publisher= self.create_publisher(String,'news',10) \n",
    "        self.timer=self.create_timer(0.5,self.publish_msg)\n",
    "\n",
    "    def publish_msg(self):\n",
    "        msg=String()\n",
    "        msg.data='hello good morning'\n",
    "        self.publisher.publish(msg)\n",
    "\n",
    " \n",
    "def main(args=None):\n",
    "    rclpy.init(args=args)\n",
    "    node = radio_station() # MODIFY NAME\n",
    "    rclpy.spin(node)\n",
    "    rclpy.shutdown()\n",
    " \n",
    " \n",
    "if __name__ == \"__main__\":\n",
    "    main()'''"
   ]
  }
 ],
 "metadata": {
  "kernelspec": {
   "display_name": "Python 3",
   "language": "python",
   "name": "python3"
  },
  "language_info": {
   "codemirror_mode": {
    "name": "ipython",
    "version": 3
   },
   "file_extension": ".py",
   "mimetype": "text/x-python",
   "name": "python",
   "nbconvert_exporter": "python",
   "pygments_lexer": "ipython3",
   "version": "3.10.12"
  }
 },
 "nbformat": 4,
 "nbformat_minor": 2
}
